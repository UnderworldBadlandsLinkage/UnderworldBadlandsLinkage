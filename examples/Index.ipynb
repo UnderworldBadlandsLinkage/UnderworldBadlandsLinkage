{
 "cells": [
  {
   "cell_type": "markdown",
   "metadata": {},
   "source": [
    "# Underworld/Badlands Linkage\n",
    "\n",
    "This is the demonstration container for Underworld/Badlands linked models.\n",
    "\n",
    "## More information\n",
    "\n",
    "All documentation is in the Wiki on Github: [https://github.com/UnderworldBadlandsLinkage/linkage/wiki](https://github.com/UnderworldBadlandsLinkage/linkage/wiki)\n",
    "Source code can be browsed on Github: [https://github.com/UnderworldBadlandsLinkage/linkage](https://github.com/UnderworldBadlandsLinkage/linkage)\n",
    "\n",
    "## Examples\n",
    "\n",
    "[**Rising Ball**](/notebooks/rising_ball/RisingBall.ipynb): an underground high-density sphere rises in its low-density environment and deforms the surface.\n",
    "\n",
    "[**DEM**](/notebooks/dem/DEM.ipynb): Demonstration of loading a Digital Elevation Map (DEM) into Badlands, which Underworld can interact with."
   ]
  }
 ],
 "metadata": {
  "kernelspec": {
   "display_name": "Python 2",
   "language": "python",
   "name": "python2"
  },
  "language_info": {
   "codemirror_mode": {
    "name": "ipython",
    "version": 2
   },
   "file_extension": ".py",
   "mimetype": "text/x-python",
   "name": "python",
   "nbconvert_exporter": "python",
   "pygments_lexer": "ipython2",
   "version": "2.7.6"
  }
 },
 "nbformat": 4,
 "nbformat_minor": 1
}
