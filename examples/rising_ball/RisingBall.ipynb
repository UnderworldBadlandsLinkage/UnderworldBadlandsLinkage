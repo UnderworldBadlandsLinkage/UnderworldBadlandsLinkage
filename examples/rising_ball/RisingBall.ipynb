{
 "cells": [
  {
   "cell_type": "markdown",
   "metadata": {},
   "source": [
    "# Rising Ball demo\n",
    "\n",
    "We start with a flat surface and a low-density sphere underground. As the sphere rises due to the density difference, the surface is deformed."
   ]
  },
  {
   "cell_type": "code",
   "execution_count": null,
   "metadata": {
    "collapsed": false
   },
   "outputs": [],
   "source": [
    "# imports\n",
    "import os\n",
    "from pyBadlands.model import Model as BadlandsModel\n",
    "import underworld as uw\n",
    "from underworld import function as fn\n",
    "from linkagemodel.linkage import LinkageModel"
   ]
  },
  {
   "cell_type": "code",
   "execution_count": null,
   "metadata": {
    "collapsed": true
   },
   "outputs": [],
   "source": [
    "# parameters for our model composition\n",
    "\n",
    "MIN_COORD = (0., 0., -80e3)\n",
    "MAX_COORD = (100e3, 100e3, 20e3)\n",
    "INITIAL_AIR_ELEVATION = 0.0  # the height at which we transition from sediment to air\n",
    "SPHERE_RADIUS = 12e3\n",
    "# Make sure the sphere starts underground. Badlands sets the initial elevation, so if the sphere pokes through the surface, it will be clipped during model initialisation.\n",
    "SPHERE_CENTRE = (50e3, 50e3, -18e3)\n",
    "\n",
    "# Material types\n",
    "airIndex = 0\n",
    "heavyIndex = 1\n",
    "lightIndex = 2\n",
    "sedimentIndex = 3\n",
    "erodedIndex = 4"
   ]
  },
  {
   "cell_type": "code",
   "execution_count": null,
   "metadata": {
    "collapsed": true
   },
   "outputs": [],
   "source": [
    "### SET UP THE LINKAGE MODEL\n",
    "linkage = LinkageModel()\n",
    "\n",
    "# The linkage needs to know which Underworld material types correspond to air or sediment in Badlands' worldview.\n",
    "linkage.air_material_indices = [airIndex, erodedIndex]\n",
    "linkage.sediment_material_indices = [heavyIndex, lightIndex, sedimentIndex]\n",
    "\n",
    "# When Badlands deposits or erodes, these are the Underworld material types that it uses\n",
    "linkage.deposited_material_index = sedimentIndex\n",
    "linkage.eroded_material_index = erodedIndex"
   ]
  },
  {
   "cell_type": "code",
   "execution_count": null,
   "metadata": {
    "collapsed": false
   },
   "outputs": [],
   "source": [
    "### SET UP THE BADLANDS MODEL\n",
    "\n",
    "# Most of the configuration is in the XML file\n",
    "badlands_model = BadlandsModel()\n",
    "badlands_model.load_xml('rising_ball.xml')\n",
    "linkage.badlands_model = badlands_model\n",
    "\n",
    "# Override the DEM with a flat one. This defines how the Badlands surface looks\n",
    "# at the start.\n",
    "dem = linkage.generate_flat_dem(minCoord=MIN_COORD, maxCoord=MAX_COORD, resolution=(180, 180), elevation=INITIAL_AIR_ELEVATION)\n",
    "linkage.load_badlands_dem_array(dem)"
   ]
  },
  {
   "cell_type": "code",
   "execution_count": null,
   "metadata": {
    "collapsed": true
   },
   "outputs": [],
   "source": [
    "### SET UP THE UNDERWORLD MODEL\n",
    "\n",
    "# All output will go to the 'uwout' directory, which we will create\n",
    "uw_output_path = 'uwout'\n",
    "try:\n",
    "    os.mkdir(uw_output_path)\n",
    "except OSError:\n",
    "    # probably already exists\n",
    "    pass\n",
    "\n",
    "# We want a domain full of 'heavy' material with a sphere composed of\n",
    "# 'light' material. The sphere will be rise toward the surface, which\n",
    "# will deform in response.\n",
    "\n",
    "# Underworld models normally run at a much lower resolution than\n",
    "# Badlands models in order to keep the computation time reasonable.\n",
    "UNDERWORLD_RESOLUTION = 20\n",
    "\n",
    "# This is the mesh whose material types will be changed by Badlands\n",
    "mesh = uw.mesh.FeMesh_Cartesian(elementType=(\"Q1/dQ0\"),\n",
    "                                elementRes =[UNDERWORLD_RESOLUTION] * 3,\n",
    "                                minCoord   =MIN_COORD,\n",
    "                                maxCoord   =MAX_COORD)\n",
    "\n",
    "# We want to track velocity and pressure.\n",
    "velocityField = uw.mesh.MeshVariable(mesh=mesh, nodeDofCount=mesh.dim)\n",
    "pressureField = uw.mesh.MeshVariable(mesh=mesh.subMesh, nodeDofCount=1)\n",
    "\n",
    "# Set initial states\n",
    "velocityField.data[:] = [0., 0., 0.]\n",
    "pressureField.data[:] = 0.\n",
    "\n",
    "# Create the swarm, material index variable and swarm advector\n",
    "swarm = uw.swarm.Swarm(mesh=mesh)\n",
    "materialIndex = swarm.add_variable(dataType=\"int\", count=1)\n",
    "\n",
    "swarmLayout = uw.swarm.layouts.GlobalSpaceFillerLayout(swarm=swarm, particlesPerCell=20)\n",
    "swarm.populate_using_layout(layout=swarmLayout)\n",
    "\n",
    "advector = uw.systems.SwarmAdvector(swarm=swarm, velocityField=velocityField, order=2)\n",
    "\n",
    "# Define a sphere\n",
    "for index, coord in enumerate(swarm.particleCoordinates.data):\n",
    "    offset = coord - SPHERE_CENTRE\n",
    "    if (offset[0]**2 + offset[1]**2 + offset[2]**2 < SPHERE_RADIUS**2):\n",
    "        materialIndex.data[index] = lightIndex\n",
    "    elif coord[2] > INITIAL_AIR_ELEVATION:\n",
    "        materialIndex.data[index] = airIndex\n",
    "    else:\n",
    "        materialIndex.data[index] = heavyIndex\n",
    "\n",
    "# Set viscosities and densities of the model.\n",
    "viscosityMapFn = 1e19\n",
    "\n",
    "# TODO update below comment\n",
    "# Here we set a density of '0.' for the lightMaterial, and '1.' for the heavymaterial.\n",
    "mappingDictDensity = {airIndex: 3300.0,\n",
    "                      lightIndex: 3240.0,\n",
    "                      heavyIndex: 3300.0,\n",
    "                      sedimentIndex: 3240.0,\n",
    "                      erodedIndex: 3300.0}\n",
    "densityFn = fn.branching.map(fn_key=materialIndex, mapping=mappingDictDensity)\n",
    "\n",
    "# And the final buoyancy force function.\n",
    "buoyancyFn = densityFn * 9.8 * [0.0, 0.0, -1.0]\n",
    "\n",
    "# wall velocity boundary conditions - free slip on all walls\n",
    "iWalls = mesh.specialSets[\"MinI_VertexSet\"] + mesh.specialSets[\"MaxI_VertexSet\"]\n",
    "jWalls = mesh.specialSets[\"MinJ_VertexSet\"] + mesh.specialSets[\"MaxJ_VertexSet\"]\n",
    "kWalls = mesh.specialSets[\"MinK_VertexSet\"] + mesh.specialSets[\"MaxK_VertexSet\"]\n",
    "velocityBC = uw.conditions.DirichletCondition(variable=velocityField,\n",
    "                                              indexSetsPerDof=(iWalls, jWalls, kWalls))\n",
    "\n",
    "# combine all the above into Stokes system and get solver\n",
    "stokesPIC = uw.systems.Stokes(velocityField=velocityField,\n",
    "                              pressureField=pressureField,\n",
    "                              swarm        =swarm,\n",
    "                              conditions   =[velocityBC, ],\n",
    "                              fn_viscosity =viscosityMapFn,\n",
    "                              fn_bodyforce =buoyancyFn)\n",
    "solver = uw.systems.Solver(stokesPIC)"
   ]
  },
  {
   "cell_type": "code",
   "execution_count": null,
   "metadata": {
    "collapsed": true
   },
   "outputs": [],
   "source": [
    "# This function is called for every Underworld timestep\n",
    "def update_function(linkage, max_seconds):\n",
    "    # Get solution for initial configuration.\n",
    "    solver.solve()\n",
    "\n",
    "    # Determine the maximum possible timestep for the advection system.\n",
    "    dtmax_seconds = advector.get_max_dt()\n",
    "    dt_seconds = min(max_seconds, dtmax_seconds)\n",
    "\n",
    "    advector.integrate(dt_seconds)\n",
    "\n",
    "    return dt_seconds\n",
    "linkage.update_function = update_function"
   ]
  },
  {
   "cell_type": "code",
   "execution_count": null,
   "metadata": {
    "collapsed": true
   },
   "outputs": [],
   "source": [
    "# This function is called every 10000 years when it's time to write a checkpoint\n",
    "def checkpoint_function(linkage, checkpoint_number, time_years):\n",
    "    mH = mesh.save(os.path.join(uw_output_path, \"mesh.h5\"))\n",
    "\n",
    "    file_prefix = os.path.join(uw_output_path, 'velocity-%s' % checkpoint_number)\n",
    "    handle = velocityField.save('%s.h5' % file_prefix)\n",
    "    velocityField.xdmf('%s.xdmf' % file_prefix, handle, 'velocity', mH, 'mesh', modeltime=time_years)\n",
    "\n",
    "    file_prefix = os.path.join(uw_output_path, 'pressure-%s' % checkpoint_number)\n",
    "    handle = pressureField.save('%s.h5' % file_prefix)\n",
    "    pressureField.xdmf('%s.xdmf' % file_prefix, handle, 'pressure', mH, 'mesh', modeltime=time_years)\n",
    "\n",
    "    sH = swarm.save(os.path.join(uw_output_path, 'swarm-%s.h5' % checkpoint_number))\n",
    "\n",
    "    file_prefix = os.path.join(uw_output_path, 'material-%s' % checkpoint_number)\n",
    "    handle = materialIndex.save('%s.h5' % file_prefix)\n",
    "    materialIndex.xdmf('%s.xdmf' % file_prefix, handle, 'material', sH, 'swarm', modeltime=time_years)\n",
    "linkage.checkpoint_function = checkpoint_function"
   ]
  },
  {
   "cell_type": "code",
   "execution_count": null,
   "metadata": {
    "collapsed": true
   },
   "outputs": [],
   "source": [
    "# Linkage needs to know about the mesh and the swarm the model is defined over\n",
    "linkage.mesh = mesh\n",
    "linkage.swarm = swarm\n",
    "# This velocity field will be used to deform the Badlands surface\n",
    "linkage.velocity_field = velocityField\n",
    "# This array will store the updated material types from Badlands\n",
    "linkage.material_index = materialIndex"
   ]
  },
  {
   "cell_type": "code",
   "execution_count": null,
   "metadata": {
    "collapsed": false
   },
   "outputs": [],
   "source": [
    "### RUN THE MODEL\n",
    "\n",
    "linkage.checkpoint_interval = 10000\n",
    "linkage.run_for_years(100000)"
   ]
  },
  {
   "cell_type": "code",
   "execution_count": null,
   "metadata": {
    "collapsed": true
   },
   "outputs": [],
   "source": []
  }
 ],
 "metadata": {
  "kernelspec": {
   "display_name": "Python 2",
   "language": "python",
   "name": "python2"
  },
  "language_info": {
   "codemirror_mode": {
    "name": "ipython",
    "version": 2
   },
   "file_extension": ".py",
   "mimetype": "text/x-python",
   "name": "python",
   "nbconvert_exporter": "python",
   "pygments_lexer": "ipython2",
   "version": "2.7.6"
  }
 },
 "nbformat": 4,
 "nbformat_minor": 1
}
